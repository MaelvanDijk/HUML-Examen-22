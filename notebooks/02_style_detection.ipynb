{
 "cells": [
  {
   "cell_type": "code",
   "execution_count": 1,
   "metadata": {},
   "outputs": [],
   "source": [
    "import sys\n",
    "\n",
    "sys.path.insert(0, \"..\")\n",
    "from src.settings import StyleSettings\n",
    "from src.data.data_tools import StyleDataset\n",
    "import numpy as np\n",
    "import seaborn as sns\n"
   ]
  },
  {
   "cell_type": "markdown",
   "metadata": {},
   "source": [
    "# Load the data"
   ]
  },
  {
   "cell_type": "code",
   "execution_count": 2,
   "metadata": {},
   "outputs": [],
   "source": [
    "settings = StyleSettings()\n",
    "traindataset = StyleDataset([settings.trainpath])\n",
    "testdataset = StyleDataset([settings.testpath])\n"
   ]
  },
  {
   "cell_type": "code",
   "execution_count": 3,
   "metadata": {},
   "outputs": [
    {
     "data": {
      "text/plain": [
       "PosixPath('../tune')"
      ]
     },
     "execution_count": 3,
     "metadata": {},
     "output_type": "execute_result"
    }
   ],
   "source": [
    "settings.log_dir"
   ]
  },
  {
   "cell_type": "markdown",
   "metadata": {},
   "source": [
    "We have 419 batches in the dataset"
   ]
  },
  {
   "cell_type": "code",
   "execution_count": 4,
   "metadata": {},
   "outputs": [
    {
     "data": {
      "text/plain": [
       "419"
      ]
     },
     "execution_count": 4,
     "metadata": {},
     "output_type": "execute_result"
    }
   ],
   "source": [
    "len(traindataset) // 32\n"
   ]
  },
  {
   "cell_type": "code",
   "execution_count": 5,
   "metadata": {},
   "outputs": [
    {
     "data": {
      "text/plain": [
       "('Lace is an openwork fabric , patterned with open holes in the work , made by machine or by hand.',\n",
       " 'wiki')"
      ]
     },
     "execution_count": 5,
     "metadata": {},
     "output_type": "execute_result"
    }
   ],
   "source": [
    "x, y = traindataset[42]\n",
    "x, y\n"
   ]
  },
  {
   "cell_type": "markdown",
   "metadata": {},
   "source": [
    "Every batch is a `Tuple[str, str]` of a sentence and a label. We can see this is a classification task.\n",
    "The task is, to classify sentences in four categories.\n",
    "Lets build a vocabulary by copy-pasting the code we used before"
   ]
  },
  {
   "cell_type": "code",
   "execution_count": 6,
   "metadata": {},
   "outputs": [
    {
     "name": "stderr",
     "output_type": "stream",
     "text": [
      "2022-07-01 13:41:51.727 | INFO     | src.models.tokenizer:build_vocab:27 - Found 19306 tokens\n"
     ]
    },
    {
     "data": {
      "text/plain": [
       "19308"
      ]
     },
     "execution_count": 6,
     "metadata": {},
     "output_type": "execute_result"
    }
   ],
   "source": [
    "from src.models import tokenizer\n",
    "\n",
    "corpus = []\n",
    "for i in range(len(traindataset)):\n",
    "    x = tokenizer.clean(traindataset[i][0])\n",
    "    corpus.append(x)\n",
    "v = tokenizer.build_vocab(corpus, max=20000)\n",
    "len(v)\n"
   ]
  },
  {
   "cell_type": "markdown",
   "metadata": {},
   "source": [
    "We need to cast the labels to an integers. You can use this dictionary to do so:"
   ]
  },
  {
   "cell_type": "code",
   "execution_count": 7,
   "metadata": {},
   "outputs": [
    {
     "data": {
      "text/plain": [
       "2"
      ]
     },
     "execution_count": 7,
     "metadata": {},
     "output_type": "execute_result"
    }
   ],
   "source": [
    "d = {\"humor\": 0, \"reuters\": 1, \"wiki\": 2, \"proverbs\": 3}\n",
    "d[y]\n"
   ]
  },
  {
   "cell_type": "markdown",
   "metadata": {},
   "source": [
    "# Question 1\n",
    "Figure out, for every class, what accuracy you should expect if the model would guess blind on the train set"
   ]
  },
  {
   "cell_type": "code",
   "execution_count": 8,
   "metadata": {},
   "outputs": [
    {
     "name": "stdout",
     "output_type": "stream",
     "text": [
      "{'humor': 4213, 'reuters': 4186, 'wiki': 4181, 'proverbs': 831}\n",
      "{'humor': 31.414510476474533, 'reuters': 31.21318320781448, 'wiki': 31.175900380284844, 'proverbs': 6.196405935426143}\n"
     ]
    }
   ],
   "source": [
    "# TODO ~ about 4 lines of code\n",
    "label_dict = {\n",
    "    \"humor\": 0,\n",
    "    \"reuters\": 0,\n",
    "    \"wiki\": 0,\n",
    "    \"proverbs\": 0\n",
    "}\n",
    "\n",
    "for row in traindataset.dataset:\n",
    "    label_dict[row[1]] += 1\n",
    "\n",
    "print(label_dict)\n",
    "\n",
    "for k in label_dict:\n",
    "    label_dict[k] =  label_dict[k] / len(traindataset.dataset) * 100\n",
    "\n",
    "print(label_dict)\n"
   ]
  },
  {
   "cell_type": "markdown",
   "metadata": {},
   "source": [
    "Reflect on what you see. What does this mean? What implications does this have? Why is that good/bad?\n",
    "Are there things down the line that could cause a problem?"
   ]
  },
  {
   "cell_type": "markdown",
   "metadata": {},
   "source": [
    "### ANSWER\n",
    "Due to the disbalance in the classes (4th to be precise) the model will probably tend to fit on the first three classes as these are easier to guess. Mostly the minority class will cause problems if we need to predict these. "
   ]
  },
  {
   "cell_type": "markdown",
   "metadata": {},
   "source": [
    "# Question 2 : Implement a preprocessor\n",
    "\n",
    "We can inherit from `tokenizer.Preprocessor`\n",
    "Only thing we need to adjust is the `cast_label` function.\n",
    " \n",
    "- create a StylePreprocessor class\n",
    "- inherit from Preprocessor\n",
    "- create a new cast_label function for this dataset"
   ]
  },
  {
   "cell_type": "code",
   "execution_count": 9,
   "metadata": {},
   "outputs": [],
   "source": [
    "# TODO ~ about 4 lines of code\n",
    "class StylePreprocessor(tokenizer.Preprocessor):\n",
    "    def cast_label(self, label: str) -> int:\n",
    "        if label == \"humor\":\n",
    "            return 0\n",
    "        elif label == \"reuters\":\n",
    "            return 1\n",
    "        elif label == \"wiki\":\n",
    "            return 2\n",
    "        elif label == \"proverbs\":\n",
    "            return 3"
   ]
  },
  {
   "cell_type": "markdown",
   "metadata": {},
   "source": [
    "To test the preprocessor:"
   ]
  },
  {
   "cell_type": "code",
   "execution_count": 10,
   "metadata": {},
   "outputs": [],
   "source": [
    "preprocessor = StylePreprocessor(max=100, vocab=v, clean=tokenizer.clean)\n",
    "x1, y1=preprocessor([(x, y)])\n"
   ]
  },
  {
   "cell_type": "markdown",
   "metadata": {},
   "source": [
    "# Set up the model\n",
    "We can re-use the BaseDatastreamer"
   ]
  },
  {
   "cell_type": "code",
   "execution_count": 11,
   "metadata": {},
   "outputs": [],
   "source": [
    "from src.data import data_tools\n",
    "\n",
    "trainstreamer = data_tools.BaseDatastreamer(\n",
    "    dataset=traindataset, batchsize=32, preprocessor=preprocessor\n",
    ").stream()\n",
    "teststreamer = data_tools.BaseDatastreamer(\n",
    "    dataset=testdataset, batchsize=32, preprocessor=preprocessor\n",
    ").stream()\n"
   ]
  },
  {
   "cell_type": "code",
   "execution_count": 12,
   "metadata": {},
   "outputs": [
    {
     "data": {
      "text/plain": [
       "(torch.Size([32, 39]),\n",
       " tensor([0, 0, 1, 3, 1, 1, 2, 1, 2, 0, 2, 0, 1, 0, 0, 2, 0, 0, 2, 0, 1, 1, 0, 1,\n",
       "         0, 1, 0, 2, 1, 1, 2, 1]))"
      ]
     },
     "execution_count": 12,
     "metadata": {},
     "output_type": "execute_result"
    }
   ],
   "source": [
    "x, y = next(trainstreamer)\n",
    "x.shape, y"
   ]
  },
  {
   "cell_type": "markdown",
   "metadata": {},
   "source": [
    "## Question 3 : Metrics, loss\n",
    "Select proper metrics and a loss function.\n",
    "\n",
    "Bonus: implement an additional metric function that is relevant for this case."
   ]
  },
  {
   "cell_type": "code",
   "execution_count": 13,
   "metadata": {},
   "outputs": [],
   "source": [
    "from src.models import metrics\n",
    "from sklearn.metrics import f1_score\n",
    "import torch\n",
    "# TODO ~ 2 lines of code\n",
    "\n",
    "metric = metrics.F1Score()\n",
    "loss_fn = torch.nn.CrossEntropyLoss()\n",
    "\n",
    "Tensor = torch.Tensor\n",
    "\n",
    "#aditional metric\n",
    "class WeightedF1Score(metrics.Metric):\n",
    "    def __repr__(self) -> str:\n",
    "        return \"WeightedF1Score\"\n",
    "\n",
    "    def __call__(self, y: Tensor, yhat: Tensor) -> Tensor:\n",
    "        yhat = yhat.argmax(dim=1)\n",
    "        score = f1_score(y, yhat, average=\"weighted\")\n",
    "        return torch.tensor(score)\n",
    "\n"
   ]
  },
  {
   "cell_type": "code",
   "execution_count": 14,
   "metadata": {},
   "outputs": [
    {
     "data": {
      "text/plain": [
       "src.models.metrics.F1Score"
      ]
     },
     "execution_count": 14,
     "metadata": {},
     "output_type": "execute_result"
    }
   ],
   "source": [
    "type(metric)"
   ]
  },
  {
   "cell_type": "markdown",
   "metadata": {},
   "source": [
    "## Question 4 : Basemodel\n",
    "Create a base model. It does not need to be naive; you could re-use the\n",
    "NLP models we used for the IMDB.\n",
    "\n",
    "I suggest to start with a hidden size of about 128.\n",
    "Use a config dictionary, or a gin file, both are fine.\n",
    "\n",
    "Bonus points if you create a Trax model in src.models, and even more if you add a trax training loop."
   ]
  },
  {
   "cell_type": "code",
   "execution_count": 15,
   "metadata": {},
   "outputs": [],
   "source": [
    "log_dir = settings.log_dir\n",
    "# TODO between 2 and 8 lines of code, depending on your setup\n",
    "# Assuming you load your model in one line of code from src.models.rnn\n",
    "from src.models import rnn\n",
    "\n",
    "config= {\n",
    "    \"vocab\": len(v),\n",
    "    \"hidden_size\": 128,\n",
    "    \"num_layers\": 3,\n",
    "    \"dropout\": 0.1,\n",
    "    \"output_size\": 4,\n",
    "}\n",
    "\n",
    "model = rnn.NLPmodel(config)\n"
   ]
  },
  {
   "cell_type": "markdown",
   "metadata": {},
   "source": [
    "Set up the trainloop.\n",
    "\n",
    "- Give the lenght of the traindataset, how many batches of 32 can you get out of it?\n",
    "- If you take a short amount of train_steps (eg 25) for every epoch, how many epochs do you need to cover the complete dataset?\n",
    "- What amount of epochs do you need to run the loop with trainsteps=25 to cover the complete traindataset once? \n",
    "- answer the questions above, and pick a reasonable epoch lenght\n",
    "\n",
    "Start with a default learning_rate of 1e-3 and an Adam optimizer."
   ]
  },
  {
   "cell_type": "code",
   "execution_count": null,
   "metadata": {},
   "outputs": [],
   "source": [
    "from src.training import train_model\n",
    "\n",
    "model = train_model.trainloop(\n",
    "    epochs=50,\n",
    "    model=model,\n",
    "    metrics=[metric],\n",
    "    optimizer=torch.optim.Adam,\n",
    "    learning_rate=1e-3,\n",
    "    loss_fn=loss_fn,\n",
    "    train_dataloader=trainstreamer,\n",
    "    test_dataloader=teststreamer,\n",
    "    log_dir=log_dir,\n",
    "    train_steps=25,\n",
    "    eval_steps=25,\n",
    ")\n"
   ]
  },
  {
   "cell_type": "markdown",
   "metadata": {},
   "source": [
    "Save an image from the training in tensorboard in the `figures` folder.\n",
    "Explain what you are seeing."
   ]
  },
  {
   "cell_type": "code",
   "execution_count": 16,
   "metadata": {},
   "outputs": [
    {
     "name": "stdout",
     "output_type": "stream",
     "text": [
      "\n",
      "    1.  13411 datapoints divided by batches of size 32 equals 419.09375 batches before the dataset could be fully seen.\n",
      "        Rounded up this would become 420\n",
      "    2.  Depending on the way we look at the question it can either be 20.955 or 21 epochs. \n",
      "        When we consider the train and test sets to be both run through the trainstep() function.\n",
      "        If we consider the trainset in the evalbatches() and the trainset in the trainstep() functions\n",
      "        then we take the max between those two for a total of 16.76375 (17 when rounded) epochs.\n",
      "    3.  16.76375 or 17 rounded up.\n",
      "    4.  25 epochs should be reasonable maybe 50 to be sure we have seen more combinations within the dataset. \n",
      "        If we want to go big and come close to the total amount of permutations the traindataset contains\n",
      "        we can go up to the humongous number below given basic combinatoric math \n",
      "        (https://statisticsbyjim.com/probability/permutations-probabilities/): \n",
      "        2553595427532697207896236658782847906869511112444955464584374200415869309443961050635633361494919486648172775020586949193836418057452631414395873061047299135306786342851710738555641861925710053699454898916976834843186820794236483017152787331685133409007759209619059384842491896515956129517517163230433337293580498877173735399759757414225084486158140323211053136995791580146060372088374698374755502009016909723850264804283137696375156069094542087730127734747934619245781360199990713961550070797279732888313735307808089033960068946140351729178052128574224151260561895466401459994851285413481732269348863667092355973771930336201103362858691765942903007498770215035417647192799812545990968607367963342646698291656634277284462197604715130710122390060848519718582729317581691333698440433739196687218300909891438014576087197704989419270656984509182985166240686617288733354930896980115700363118288048476431001473029834943976567552146584306952984978744678337273323711187900518071084636671616759626099013124161586231615520221857825905458040683266900653634796593139003481696910181381209934792133549800699813325097453348011915974203791830134162508241371571861313457786276213660433504634786686332541274004003608791390234512906185182479198673837206892256695181088027464244505060519652996131772728880126665665263717526304778979572590569861214649028877419335079290478006763052946286446748781381617188339600271081055403180471724461809622440649158445199072739216936530364086002636104286125758375893649767174729801407936700394156076664338415783722758433370184782025676136800468007128895341604771838325019061855276537180768726575973288754696198654192540791451497686218955230242661795009046648031584150437966475345883096810605264000414511939467950087420138312960911898409447945899642115279857445748286910153943444151744509714113476610776453637793879944601506953734026167299304096848706293275717511175655277953811567292212634750221404541865692829205098157446333804482276548606594031255806228391152552579147493555624767133109274949887199037727073917427285384044155254174434486109737854503427473815914623018386624565997480538487570571804284639462718785769543304146737806671745571086640649496021606936661147899860117808465264351881748123359681192664851591394817416472091093758352442506201419455543051236854175914565614993688543625546931339538358879869134125011454955196880854947717508634423022409914158134535012378354539328643167551799538311731444957613416128761096533116649358184682984082262392334544274681596591882148850798122259960660196747629356329123131973309290281165338808071412330039995720551485164229573899579176297258172060811621459760701386928190117143774321648430772931004954984841002375678259554874694525205917381076885515353917655224155446233745650390234206415145998464522857174592928885427435581829278780824799778437724972195205361350302708666448977830897280840083529213362790397174110042172977446706799195498559864776309446101139848590957399534935291397332282849639336964395744356713820166574680291085640954165938556374407377343902405191387580424737866590661743412347873070797724533856153488312814796800000000000000000000000000000000000000000000000000000000000000000000000000000000000000000000000000000000000000000000000000000000000000000000000000000000000000000000000000000000000000000000000000000000\n",
      "    5.  in the image \"tune/20220621-1931\"  (could not save the image to the figure folder, sorry!)\n",
      "        we can see only marginally smaal improvements after epoch 25.\n",
      "        Even worse we see signals of overfitting where the test dataset loss is not improving (only wobbling)\n",
      "        the train loss is decreasing comparatively a lot (the two are even diverging starting from epoch 45).\n",
      "        This indicates that the model is learning the patterns in the trainset and not generalizing on the data.\n",
      "    \n"
     ]
    }
   ],
   "source": [
    "import math\n",
    "print(\n",
    "    f'''\n",
    "    1.  {len(traindataset)} datapoints divided by batches of size 32 equals {len(traindataset) / 32} batches before the dataset could be fully seen.\n",
    "        Rounded up this would become 420\n",
    "    2.  Depending on the way we look at the question it can either be {(len(traindataset)  + len(testdataset)) / (25 * 32)} or 21 epochs. \n",
    "        When we consider the train and test sets to be both run through the trainstep() function.\n",
    "        If we consider the trainset in the evalbatches() and the trainset in the trainstep() functions\n",
    "        then we take the max between those two for a total of {max(len(testdataset) / (25*32),\n",
    "     len(traindataset) / (25*32))} (17 when rounded) epochs.\n",
    "    3.  {len(traindataset) / (25*32)} or 17 rounded up.\n",
    "    4.  25 epochs should be reasonable maybe 50 to be sure we have seen more combinations within the dataset. \n",
    "        If we want to go big and come close to the total amount of permutations the traindataset contains\n",
    "        we can go up to the humongous number below given basic combinatoric math \n",
    "        (https://statisticsbyjim.com/probability/permutations-probabilities/): \n",
    "        {math.factorial(len(traindataset)) // math.factorial((len(traindataset) - (25*32)))}\n",
    "    5.  in the image \"tune/20220621-1931\"  (could not save the image to the figure folder, sorry!)\n",
    "        we can see only marginally smaal improvements after epoch 25.\n",
    "        Even worse we see signals of overfitting where the test dataset loss is not improving (only wobbling)\n",
    "        the train loss is decreasing comparatively a lot (the two are even diverging starting from epoch 45).\n",
    "        This indicates that the model is learning the patterns in the trainset and not generalizing on the data.\n",
    "    '''\n",
    ")"
   ]
  },
  {
   "cell_type": "code",
   "execution_count": null,
   "metadata": {},
   "outputs": [],
   "source": [
    "!tensorboard --logdir \"/home/mladmin/code/eind_opdracht/examen-22/tune\""
   ]
  },
  {
   "cell_type": "markdown",
   "metadata": {},
   "source": [
    "# 5 Evaluate the basemodel\n",
    "Create a confusion matrix with the code below"
   ]
  },
  {
   "cell_type": "code",
   "execution_count": 17,
   "metadata": {},
   "outputs": [
    {
     "data": {
      "text/plain": [
       "[Text(0.5, 15.0, 'Predicted'), Text(33.0, 0.5, 'Target')]"
      ]
     },
     "execution_count": 17,
     "metadata": {},
     "output_type": "execute_result"
    },
    {
     "data": {
      "image/png": "[encoded data removed]",
      "text/plain": [
       "<Figure size 432x288 with 2 Axes>"
      ]
     },
     "metadata": {
      "needs_background": "light"
     },
     "output_type": "display_data"
    }
   ],
   "source": [
    "from sklearn.metrics import confusion_matrix\n",
    "import seaborn as sns\n",
    "\n",
    "y_true = []\n",
    "y_pred = []\n",
    "\n",
    "for _ in range(10):\n",
    "    X, y = next(teststreamer)\n",
    "    yhat = model(X)\n",
    "    yhat = yhat.argmax(dim=1)\n",
    "    y_pred.append(yhat.tolist())\n",
    "    y_true.append(y.tolist())\n",
    "\n",
    "yhat = [x for y in y_pred for x in y]\n",
    "y = [x for y in y_true for x in y]\n",
    "\n",
    "cfm = confusion_matrix(y, yhat)\n",
    "cfm_norm = cfm / np.sum(cfm, axis=1, keepdims=True)\n",
    "plot = sns.heatmap(cfm_norm, annot=cfm_norm, fmt=\".3f\")\n",
    "plot.set(xlabel=\"Predicted\", ylabel=\"Target\")\n"
   ]
  },
  {
   "cell_type": "markdown",
   "metadata": {},
   "source": [
    "Save this in the figures folder.\n",
    "Interpret this. \n",
    "\n",
    "- What is going on?\n",
    "- What is a good metric here?\n",
    "- how is your answer to Q1 relevant here?\n",
    "- Is there something you could do to fix/improve things, after you see these results?"
   ]
  },
  {
   "cell_type": "markdown",
   "metadata": {},
   "source": [
    "1. The confusionmatrix shows the accuracy (as per the documentation of scikitlearn). This confusion matrix shows the a multiclass classification instead of the standard binary variant. Within each of the rows in this matrix the total should be 1 (or 100%). \n",
    "2. I would prefere the F1 metric or even better the F1 weighted metric to have a better feeling how the model performs overal. But, because we know right now that the dataset is imbalanced the accuracy is not a bad score to check our performance and get an idea of the model and if it is performing better than a dumb model.\n",
    "3. because of the data imbalance we know that acc should be higher than ~30 percent for the majority classes and higher than ~5 percent for the minority class. This in turn tells us that the current model is doing a better job than pure gambling\n",
    "4. We could try under or over sampling (I would say under sampling because I do not have the knoweledge regarding over sampling in NLP). Other ways to combat this is maybe using the weighted F1 metric (giving the minority class as much importance as the majority classes) or a weighted loss function. But this wholy depends on the goal of the project. If errors in the minority class are of no problem then tackling this problem give rise to different solutions than when the minority class is the most important."
   ]
  },
  {
   "cell_type": "markdown",
   "metadata": {},
   "source": [
    "# 6 Tune the model\n",
    "Don't overdo this.\n",
    "More is not better.\n",
    "\n",
    "Bonus points for things like:\n",
    "- Attention layers\n",
    "- Trax architecture including a functioning training loop\n",
    "\n",
    "Keep it small! It's better to present 2 or 3 sane experiments that are structured and thought trough, than 25 random guesses. You can test more, but select 2 or 3 of the best alternatives you researched, with a rationale why this works better.\n",
    "\n",
    "Keep it concise; explain:\n",
    "- what you changed\n",
    "- why you thought that was a good idea  \n",
    "- what the impact was (visualise or numeric)\n",
    "- explain the impact\n",
    "\n",
    "You dont need to get a perfect score; curiousity driven research that fails is fine.\n",
    "The insight into what is happening is more important than the quantity.\n",
    "\n",
    "Keep logs of your settings;\n",
    "either use gin, or save configs, or both :)\n",
    "Store images in the `figures` folder."
   ]
  },
  {
   "cell_type": "markdown",
   "metadata": {},
   "source": [
    "## 6.1 imports"
   ]
  },
  {
   "cell_type": "code",
   "execution_count": 18,
   "metadata": {},
   "outputs": [
    {
     "name": "stderr",
     "output_type": "stream",
     "text": [
      "2022-07-01 13:41:59.601481: W tensorflow/stream_executor/platform/default/dso_loader.cc:64] Could not load dynamic library 'libcudart.so.11.0'; dlerror: libcudart.so.11.0: cannot open shared object file: No such file or directory\n"
     ]
    }
   ],
   "source": [
    "import trax\n",
    "from trax import layers as tl\n",
    "from trax.layers import combinators as cb\n",
    "from trax.shapes import signature\n",
    "from trax.supervised import training\n",
    "from trax.supervised.lr_schedules import warmup_and_rsqrt_decay\n",
    "from trax.layers.assert_shape import assert_shape\n",
    "import jax.numpy as jnp\n",
    "from jax import jit\n",
    "import numpy as np\n",
    "\n",
    "from pathlib import Path"
   ]
  },
  {
   "cell_type": "markdown",
   "metadata": {},
   "source": [
    "## 6.2 Pipeline"
   ]
  },
  {
   "cell_type": "code",
   "execution_count": 211,
   "metadata": {},
   "outputs": [
    {
     "data": {
      "text/plain": [
       "((32, 50), (32,))"
      ]
     },
     "execution_count": 211,
     "metadata": {},
     "output_type": "execute_result"
    }
   ],
   "source": [
    "preprocessor = StylePreprocessor(max=50, vocab=v, clean=tokenizer.clean)\n",
    "trainstreamer = data_tools.BaseDatastreamer(\n",
    "    dataset=traindataset,\n",
    "    batchsize=32,\n",
    "    preprocessor=preprocessor\n",
    ").stream()\n",
    "\n",
    "teststreamer = data_tools.BaseDatastreamer(\n",
    "    dataset=testdataset,\n",
    "    batchsize=32,\n",
    "    preprocessor=preprocessor\n",
    ").stream()\n",
    "\n",
    "def Cast():\n",
    "    '''\n",
    "    NOTE MAEL:\n",
    "    This function casts an input tensor to an numpy array.\n",
    "    During this process the numpy array will be padded to a fixed lenght\n",
    "    Because the stylepreprocessor uses the torch function pad_sequence()\n",
    "    max length within the current batch, I had to work around this.\n",
    "    changing the tokenizer could be an option but seeing other notebooks might use this\n",
    "    I opted to change this function instead. \n",
    "\n",
    "    The cause to implement this was a trax error where every batch yielded different sized tensors as input X\n",
    "    '''\n",
    "    def f(generator, max_len=50):\n",
    "        for x, y in generator:\n",
    "            new_x= []\n",
    "            _x = x.numpy()\n",
    "            for i, emb in enumerate(_x):\n",
    "                np_array_to_pad = emb\n",
    "                new_x.append(np.pad(np_array_to_pad, (0, max_len - len(np_array_to_pad))))\n",
    "            yield np.array(new_x), y.numpy()\n",
    "        return new_x\n",
    "    return lambda g: f(g)\n",
    "\n",
    "data_pipeline = trax.data.Serial(Cast())\n",
    "trainpipe = data_pipeline(trainstreamer)\n",
    "testpipe = data_pipeline(teststreamer)\n",
    "X, y= next(trainpipe)\n",
    "X.shape, y.shape"
   ]
  },
  {
   "cell_type": "markdown",
   "metadata": {},
   "source": [
    "## 6.3 model"
   ]
  },
  {
   "cell_type": "markdown",
   "metadata": {},
   "source": [
    "### 6.3.1 model 1 basic model"
   ]
  },
  {
   "cell_type": "code",
   "execution_count": null,
   "metadata": {},
   "outputs": [],
   "source": [
    "base_model = cb.Serial(\n",
    "    tl.Dense(128),\n",
    "    tl.Relu(),\n",
    "    tl.Dense(4)\n",
    ")\n",
    "\n",
    "lr = warmup_and_rsqrt_decay(100, 0.01)\n",
    "\n",
    "# base_model._clear_init_cache()\n",
    "\n",
    "base_model.init_weights_and_state(X)"
   ]
  },
  {
   "cell_type": "markdown",
   "metadata": {},
   "source": [
    "### 6.3.2 model 2 with larger first dense layer"
   ]
  },
  {
   "cell_type": "code",
   "execution_count": null,
   "metadata": {},
   "outputs": [],
   "source": [
    "base_model2 = cb.Serial(\n",
    "    tl.Dense(256),\n",
    "    tl.Relu(),\n",
    "    tl.Dense(4)\n",
    ")\n",
    "\n",
    "lr = warmup_and_rsqrt_decay(100, 0.01)\n",
    "\n",
    "base_model.init_weights_and_state(X)\n",
    "print(X.shape)"
   ]
  },
  {
   "cell_type": "markdown",
   "metadata": {},
   "source": [
    "### 6.3.3 model 3 a RNN network"
   ]
  },
  {
   "cell_type": "code",
   "execution_count": 126,
   "metadata": {},
   "outputs": [
    {
     "name": "stderr",
     "output_type": "stream",
     "text": [
      "/home/mladmin/.cache/pypoetry/virtualenvs/exam-22-Z0MsbPIA-py3.9/lib/python3.9/site-packages/jax/_src/numpy/lax_numpy.py:1939: UserWarning: Explicitly requested dtype <class 'jax.numpy.int64'> requested in zeros is not available, and will be truncated to dtype int32. To enable more dtypes, set the jax_enable_x64 configuration option or the JAX_ENABLE_X64 shell environment variable. See https://github.com/google/jax#current-gotchas for more.\n",
      "  lax_internal._check_user_dtype_supported(dtype, \"zeros\")\n"
     ]
    }
   ],
   "source": [
    "def AvgLast():\n",
    "    return tl.Fn(\"AvgLast\", lambda x: x.mean(axis=-1), n_out=1)\n",
    "\n",
    "@assert_shape(\"bs->bl\")\n",
    "def rnn(vocab_size, feature_size, n_out):\n",
    "    rnn_model = cb.Serial(\n",
    "        tl.Embedding(vocab_size=vocab_size, d_feature=feature_size),\n",
    "        tl.GRU(n_units=feature_size),\n",
    "        tl.BatchNorm(),\n",
    "        AvgLast(),\n",
    "        tl.Dense(n_out)\n",
    "    )\n",
    "\n",
    "    return rnn_model\n",
    "\n",
    "rnn_model = rnn(len(v), 128, 4)   \n",
    "lr = warmup_and_rsqrt_decay(100, 0.01)\n",
    "\n",
    "rnn_model.init_weights_and_state(signature(X))\n"
   ]
  },
  {
   "cell_type": "markdown",
   "metadata": {},
   "source": [
    "### 6.3.4 Basic Attention"
   ]
  },
  {
   "cell_type": "code",
   "execution_count": 134,
   "metadata": {},
   "outputs": [],
   "source": [
    "attention_model = cb.Serial(\n",
    "    tl.Embedding(vocab_size= len(v), d_feature= 128),\n",
    "    cb.Branch(\n",
    "        tl.SelfAttention(4),\n",
    "        None\n",
    "    ),\n",
    "    tl.Add(),\n",
    "    tl.LayerNorm(),\n",
    "    cb.Branch(\n",
    "        tl.Dense(128),\n",
    "        None\n",
    "    ),\n",
    "    tl.Relu(),\n",
    "    tl.Add(),\n",
    "    tl.LayerNorm(),\n",
    "    tl.Dense(4),\n",
    "    AvgLast(),\n",
    "    \n",
    "    # tl.SplitIntoHeads(8),\n",
    "    # tl.Attention(128, 8)\n",
    "    # tl.DotProductAttention(),   \n",
    ")\n",
    "lr = warmup_and_rsqrt_decay(100, 0.01)\n"
   ]
  },
  {
   "cell_type": "code",
   "execution_count": 135,
   "metadata": {},
   "outputs": [
    {
     "data": {
      "text/plain": [
       "(32, 50)"
      ]
     },
     "execution_count": 135,
     "metadata": {},
     "output_type": "execute_result"
    }
   ],
   "source": [
    "attention_model.init_weights_and_state(signature(X))\n",
    "attention_model(X).shape"
   ]
  },
  {
   "cell_type": "code",
   "execution_count": 136,
   "metadata": {},
   "outputs": [],
   "source": [
    "y = attention_model(X)"
   ]
  },
  {
   "cell_type": "code",
   "execution_count": 137,
   "metadata": {},
   "outputs": [
    {
     "data": {
      "text/plain": [
       "(32, 50)"
      ]
     },
     "execution_count": 137,
     "metadata": {},
     "output_type": "execute_result"
    }
   ],
   "source": [
    "y.shape"
   ]
  },
  {
   "cell_type": "markdown",
   "metadata": {},
   "source": [
    "### 6.3.5 New Attention"
   ]
  },
  {
   "cell_type": "code",
   "execution_count": 268,
   "metadata": {},
   "outputs": [
    {
     "data": {
      "text/plain": [
       "DeviceArray([[ 1.79147929e-01,  2.86546350e-02, -9.43298414e-02,\n",
       "               1.65387392e-02],\n",
       "             [ 9.88959223e-02,  7.40976073e-03,  3.36183429e-01,\n",
       "               1.29936710e-01],\n",
       "             [-3.34195308e-02,  8.24437559e-01, -2.07810968e-01,\n",
       "               2.87569284e-01],\n",
       "             [ 2.75100917e-01,  2.71229744e-01,  1.17622828e-02,\n",
       "               2.96169557e-02],\n",
       "             [ 1.83646962e-01,  2.39107981e-01, -2.84910858e-01,\n",
       "              -2.85357952e-01],\n",
       "             [ 7.14155585e-02, -2.78087631e-02, -4.07602489e-02,\n",
       "              -5.62588573e-01],\n",
       "             [ 3.85956258e-01,  8.37567210e-01,  1.65604632e-02,\n",
       "              -1.67830214e-01],\n",
       "             [-3.66651267e-01,  1.56396604e+00, -2.64552027e-01,\n",
       "               4.58169915e-02],\n",
       "             [-6.00859784e-02,  4.11092758e-01,  4.13860567e-03,\n",
       "               5.30241467e-02],\n",
       "             [ 3.97710174e-01, -9.65234458e-01, -1.19505204e-01,\n",
       "              -8.53585362e-01],\n",
       "             [-3.05775739e-02, -3.27843606e-01,  3.78098518e-01,\n",
       "               3.50128621e-01],\n",
       "             [-1.17058240e-01,  4.21953201e-01, -5.75670660e-01,\n",
       "              -2.96744049e-01],\n",
       "             [ 2.92188078e-01,  3.48904490e-01, -8.78306180e-02,\n",
       "               2.39344537e-02],\n",
       "             [ 1.42991453e-01, -1.40239328e-01, -5.03286064e-01,\n",
       "               9.99250263e-02],\n",
       "             [-3.84578586e-01,  5.55482954e-02,  5.00436366e-01,\n",
       "               2.20344573e-01],\n",
       "             [-1.73736453e-01,  7.74457395e-01,  5.45126386e-02,\n",
       "              -4.47983086e-01],\n",
       "             [-8.65477920e-02,  4.53194499e-01,  4.28242177e-01,\n",
       "               6.36430755e-02],\n",
       "             [ 2.73434911e-02,  1.77961379e-01, -4.81746672e-03,\n",
       "              -4.90377963e-01],\n",
       "             [-3.97028506e-01,  6.13872349e-01,  2.00992927e-01,\n",
       "               8.02527294e-02],\n",
       "             [ 7.44651020e-01,  9.07279491e-01,  4.62786943e-01,\n",
       "              -1.21147614e-02],\n",
       "             [ 1.79088905e-01, -3.92146051e-01, -2.80935913e-01,\n",
       "               2.64390320e-01],\n",
       "             [-3.18625122e-01, -3.84325713e-01,  1.07456461e-01,\n",
       "              -3.37774068e-01],\n",
       "             [-1.94973528e-01, -6.83216751e-02, -7.90371180e-01,\n",
       "               9.64080989e-02],\n",
       "             [ 3.72456461e-01, -4.25585926e-01, -1.77816838e-01,\n",
       "               6.04880452e-01],\n",
       "             [-9.81020331e-02,  3.69559117e-02, -7.01505542e-01,\n",
       "              -3.58537883e-01],\n",
       "             [-8.08672190e-01, -7.27856278e-01, -5.42989075e-01,\n",
       "               2.67146438e-01],\n",
       "             [-5.59078336e-01,  5.35074137e-02,  7.18669653e-01,\n",
       "               2.67990947e-01],\n",
       "             [ 1.52953520e-01, -3.63048285e-01, -9.40324590e-02,\n",
       "               4.48670924e-01],\n",
       "             [ 5.85514843e-01,  5.04329383e-01,  2.29405805e-01,\n",
       "              -2.85145164e-01],\n",
       "             [ 7.18494415e-01,  3.55994791e-01,  1.60881683e-01,\n",
       "              -8.29076162e-04],\n",
       "             [ 3.35469574e-01,  4.34220493e-01,  6.87058568e-01,\n",
       "              -4.39004660e-01],\n",
       "             [-6.98308051e-02,  1.26246333e+00,  1.40918210e-01,\n",
       "              -2.89220452e-01]], dtype=float32)"
      ]
     },
     "execution_count": 268,
     "metadata": {},
     "output_type": "execute_result"
    }
   ],
   "source": [
    "attention_model2 = cb.Serial(\n",
    "        cb.Branch(\n",
    "            cb.Serial(\n",
    "                tl.Embedding(vocab_size= len(v), d_feature= 128),\n",
    "                tl.LayerNorm()\n",
    "            ),\n",
    "            tl.PaddingMask()\n",
    "            ),\n",
    "    tl.Attention(128, n_heads= 4),\n",
    "    tl.Select([0], n_in=2),\n",
    "    tl.Dense(4),\n",
    "    tl.Mean(axis=1),\n",
    "    # tl.Softmax(),\n",
    ")\n",
    "lr = warmup_and_rsqrt_decay(100, 0.01)\n",
    "attention_model2.init_weights_and_state(signature(X))\n",
    "y_hat = attention_model2(X)\n",
    "y_hat"
   ]
  },
  {
   "cell_type": "markdown",
   "metadata": {},
   "source": [
    "## 6.4 training"
   ]
  },
  {
   "cell_type": "code",
   "execution_count": 269,
   "metadata": {},
   "outputs": [
    {
     "name": "stdout",
     "output_type": "stream",
     "text": [
      "\n",
      "Step      1: Total number of trainable weights: 2538244\n",
      "Step      1: Ran 1 train steps in 4.96 secs\n",
      "Step      1: train CategoryCrossEntropy |  1.28948033\n",
      "Step      1: eval      CategoryAccuracy |  0.18750000\n",
      "Step      1: eval        WeightedFScore |  0.20041744\n",
      "Step      1: eval   MacroAveragedFScore |  0.16232254\n",
      "Step      1: eval  CategoryCrossEntropy |  1.47088734\n",
      "\n",
      "Step    100: Ran 99 train steps in 4.01 secs\n",
      "Step    100: train CategoryCrossEntropy |  0.97175497\n",
      "Step    100: eval      CategoryAccuracy |  0.70000000\n",
      "Step    100: eval        WeightedFScore |  0.68486379\n",
      "Step    100: eval   MacroAveragedFScore |  0.51284615\n",
      "Step    100: eval  CategoryCrossEntropy |  0.92860621\n",
      "\n",
      "Step    200: Ran 100 train steps in 3.16 secs\n",
      "Step    200: train CategoryCrossEntropy |  0.83704925\n",
      "Step    200: eval      CategoryAccuracy |  0.78750000\n",
      "Step    200: eval        WeightedFScore |  0.76932186\n",
      "Step    200: eval   MacroAveragedFScore |  0.59660819\n",
      "Step    200: eval  CategoryCrossEntropy |  0.75630803\n",
      "\n",
      "Step    300: Ran 100 train steps in 3.25 secs\n",
      "Step    300: train CategoryCrossEntropy |  0.60785460\n",
      "Step    300: eval      CategoryAccuracy |  0.81250000\n",
      "Step    300: eval        WeightedFScore |  0.79373443\n",
      "Step    300: eval   MacroAveragedFScore |  0.61649728\n",
      "Step    300: eval  CategoryCrossEntropy |  0.52701439\n",
      "\n",
      "Step    400: Ran 100 train steps in 3.34 secs\n",
      "Step    400: train CategoryCrossEntropy |  0.54151034\n",
      "Step    400: eval      CategoryAccuracy |  0.75625000\n",
      "Step    400: eval        WeightedFScore |  0.73623798\n",
      "Step    400: eval   MacroAveragedFScore |  0.57904201\n",
      "Step    400: eval  CategoryCrossEntropy |  0.66465254\n",
      "\n",
      "Step    500: Ran 100 train steps in 3.39 secs\n",
      "Step    500: train CategoryCrossEntropy |  0.47610050\n",
      "Step    500: eval      CategoryAccuracy |  0.86250000\n",
      "Step    500: eval        WeightedFScore |  0.85539448\n",
      "Step    500: eval   MacroAveragedFScore |  0.64717054\n",
      "Step    500: eval  CategoryCrossEntropy |  0.41466334\n",
      "\n",
      "Step    600: Ran 100 train steps in 3.46 secs\n",
      "Step    600: train CategoryCrossEntropy |  0.42532843\n",
      "Step    600: eval      CategoryAccuracy |  0.86875000\n",
      "Step    600: eval        WeightedFScore |  0.86157228\n",
      "Step    600: eval   MacroAveragedFScore |  0.71875252\n",
      "Step    600: eval  CategoryCrossEntropy |  0.39899511\n",
      "\n",
      "Step    700: Ran 100 train steps in 3.54 secs\n",
      "Step    700: train CategoryCrossEntropy |  0.47157896\n",
      "Step    700: eval      CategoryAccuracy |  0.85625000\n",
      "Step    700: eval        WeightedFScore |  0.84006585\n",
      "Step    700: eval   MacroAveragedFScore |  0.70463205\n",
      "Step    700: eval  CategoryCrossEntropy |  0.44760842\n",
      "\n",
      "Step    800: Ran 100 train steps in 3.53 secs\n",
      "Step    800: train CategoryCrossEntropy |  0.38379955\n",
      "Step    800: eval      CategoryAccuracy |  0.85000000\n",
      "Step    800: eval        WeightedFScore |  0.84749348\n",
      "Step    800: eval   MacroAveragedFScore |  0.73402738\n",
      "Step    800: eval  CategoryCrossEntropy |  0.47107727\n",
      "\n",
      "Step    900: Ran 100 train steps in 3.56 secs\n",
      "Step    900: train CategoryCrossEntropy |  0.31358641\n",
      "Step    900: eval      CategoryAccuracy |  0.85625000\n",
      "Step    900: eval        WeightedFScore |  0.84159796\n",
      "Step    900: eval   MacroAveragedFScore |  0.59410944\n",
      "Step    900: eval  CategoryCrossEntropy |  0.37178028\n",
      "\n",
      "Step   1000: Ran 100 train steps in 3.55 secs\n",
      "Step   1000: train CategoryCrossEntropy |  0.23428421\n",
      "Step   1000: eval      CategoryAccuracy |  0.86875000\n",
      "Step   1000: eval        WeightedFScore |  0.86660564\n",
      "Step   1000: eval   MacroAveragedFScore |  0.70400233\n",
      "Step   1000: eval  CategoryCrossEntropy |  0.49541283\n",
      "\n",
      "Step      1: Total number of trainable weights: 2538244\n",
      "Step      1: Ran 1 train steps in 4.23 secs\n",
      "Step      1: train CategoryCrossEntropy |  0.13578111\n",
      "Step      1: eval      CategoryAccuracy |  0.86250000\n",
      "Step      1: eval        WeightedFScore |  0.86577846\n",
      "Step      1: eval   MacroAveragedFScore |  0.74117783\n",
      "Step      1: eval  CategoryCrossEntropy |  0.38581087\n",
      "\n",
      "Step    100: Ran 99 train steps in 4.10 secs\n",
      "Step    100: train CategoryCrossEntropy |  0.26306453\n",
      "Step    100: eval      CategoryAccuracy |  0.82812500\n",
      "Step    100: eval        WeightedFScore |  0.82265848\n",
      "Step    100: eval   MacroAveragedFScore |  0.68906003\n",
      "Step    100: eval  CategoryCrossEntropy |  0.59884433\n",
      "\n",
      "Step    200: Ran 100 train steps in 4.27 secs\n",
      "Step    200: train CategoryCrossEntropy |  0.50762755\n",
      "Step    200: eval      CategoryAccuracy |  0.82500000\n",
      "Step    200: eval        WeightedFScore |  0.81561902\n",
      "Step    200: eval   MacroAveragedFScore |  0.66010427\n",
      "Step    200: eval  CategoryCrossEntropy |  0.44288584\n",
      "\n",
      "Step    300: Ran 100 train steps in 4.41 secs\n",
      "Step    300: train CategoryCrossEntropy |  0.32969227\n",
      "Step    300: eval      CategoryAccuracy |  0.84375000\n",
      "Step    300: eval        WeightedFScore |  0.82848045\n",
      "Step    300: eval   MacroAveragedFScore |  0.70067811\n",
      "Step    300: eval  CategoryCrossEntropy |  0.46562290\n",
      "\n",
      "Step    400: Ran 100 train steps in 4.50 secs\n",
      "Step    400: train CategoryCrossEntropy |  0.31857964\n",
      "Step    400: eval      CategoryAccuracy |  0.90312500\n",
      "Step    400: eval        WeightedFScore |  0.89640670\n",
      "Step    400: eval   MacroAveragedFScore |  0.82014211\n",
      "Step    400: eval  CategoryCrossEntropy |  0.32069505\n",
      "\n",
      "Step    500: Ran 100 train steps in 4.50 secs\n",
      "Step    500: train CategoryCrossEntropy |  0.16778558\n",
      "Step    500: eval      CategoryAccuracy |  0.86250000\n",
      "Step    500: eval        WeightedFScore |  0.85735708\n",
      "Step    500: eval   MacroAveragedFScore |  0.77627114\n",
      "Step    500: eval  CategoryCrossEntropy |  0.45586116\n",
      "\n",
      "Step    600: Ran 100 train steps in 4.70 secs\n",
      "Step    600: train CategoryCrossEntropy |  0.17274489\n",
      "Step    600: eval      CategoryAccuracy |  0.87500000\n",
      "Step    600: eval        WeightedFScore |  0.86417381\n",
      "Step    600: eval   MacroAveragedFScore |  0.72644406\n",
      "Step    600: eval  CategoryCrossEntropy |  0.36576204\n",
      "\n",
      "Step    700: Ran 100 train steps in 4.55 secs\n",
      "Step    700: train CategoryCrossEntropy |  0.16358069\n",
      "Step    700: eval      CategoryAccuracy |  0.91562500\n",
      "Step    700: eval        WeightedFScore |  0.91588649\n",
      "Step    700: eval   MacroAveragedFScore |  0.84066962\n",
      "Step    700: eval  CategoryCrossEntropy |  0.28594337\n",
      "\n",
      "Step    800: Ran 100 train steps in 4.54 secs\n",
      "Step    800: train CategoryCrossEntropy |  0.16558093\n",
      "Step    800: eval      CategoryAccuracy |  0.87500000\n",
      "Step    800: eval        WeightedFScore |  0.87321418\n",
      "Step    800: eval   MacroAveragedFScore |  0.76294442\n",
      "Step    800: eval  CategoryCrossEntropy |  0.39970484\n",
      "\n",
      "Step    900: Ran 100 train steps in 4.55 secs\n",
      "Step    900: train CategoryCrossEntropy |  0.12640359\n",
      "Step    900: eval      CategoryAccuracy |  0.87500000\n",
      "Step    900: eval        WeightedFScore |  0.86969401\n",
      "Step    900: eval   MacroAveragedFScore |  0.73674093\n",
      "Step    900: eval  CategoryCrossEntropy |  0.36065156\n",
      "\n",
      "Step   1000: Ran 100 train steps in 4.67 secs\n",
      "Step   1000: train CategoryCrossEntropy |  0.08643066\n",
      "Step   1000: eval      CategoryAccuracy |  0.87500000\n",
      "Step   1000: eval        WeightedFScore |  0.87633508\n",
      "Step   1000: eval   MacroAveragedFScore |  0.77078943\n",
      "Step   1000: eval  CategoryCrossEntropy |  0.40048076\n",
      "\n",
      "Step      1: Total number of trainable weights: 2538244\n",
      "Step      1: Ran 1 train steps in 4.29 secs\n",
      "Step      1: train CategoryCrossEntropy |  0.08370770\n",
      "Step      1: eval      CategoryAccuracy |  0.89062500\n",
      "Step      1: eval        WeightedFScore |  0.88937753\n",
      "Step      1: eval   MacroAveragedFScore |  0.82275550\n",
      "Step      1: eval  CategoryCrossEntropy |  0.37045451\n",
      "\n",
      "Step    100: Ran 99 train steps in 6.42 secs\n",
      "Step    100: train CategoryCrossEntropy |  0.10415886\n",
      "Step    100: eval      CategoryAccuracy |  0.86250000\n",
      "Step    100: eval        WeightedFScore |  0.86712383\n",
      "Step    100: eval   MacroAveragedFScore |  0.77394143\n",
      "Step    100: eval  CategoryCrossEntropy |  0.57515411\n",
      "\n",
      "Step    200: Ran 100 train steps in 6.74 secs\n",
      "Step    200: train CategoryCrossEntropy |  0.21076605\n",
      "Step    200: eval      CategoryAccuracy |  0.87031250\n",
      "Step    200: eval        WeightedFScore |  0.87030540\n",
      "Step    200: eval   MacroAveragedFScore |  0.76659143\n",
      "Step    200: eval  CategoryCrossEntropy |  0.48240554\n",
      "\n",
      "Step    300: Ran 100 train steps in 6.77 secs\n",
      "Step    300: train CategoryCrossEntropy |  0.11232238\n",
      "Step    300: eval      CategoryAccuracy |  0.89687500\n",
      "Step    300: eval        WeightedFScore |  0.89818738\n",
      "Step    300: eval   MacroAveragedFScore |  0.82755271\n",
      "Step    300: eval  CategoryCrossEntropy |  0.35804595\n",
      "\n",
      "Step    400: Ran 100 train steps in 6.71 secs\n",
      "Step    400: train CategoryCrossEntropy |  0.10255001\n",
      "Step    400: eval      CategoryAccuracy |  0.87031250\n",
      "Step    400: eval        WeightedFScore |  0.87275224\n",
      "Step    400: eval   MacroAveragedFScore |  0.81411054\n",
      "Step    400: eval  CategoryCrossEntropy |  0.51752704\n",
      "\n",
      "Step    500: Ran 100 train steps in 6.92 secs\n",
      "Step    500: train CategoryCrossEntropy |  0.05592683\n",
      "Step    500: eval      CategoryAccuracy |  0.89375000\n",
      "Step    500: eval        WeightedFScore |  0.89013481\n",
      "Step    500: eval   MacroAveragedFScore |  0.81127869\n",
      "Step    500: eval  CategoryCrossEntropy |  0.44201756\n",
      "\n",
      "Step    600: Ran 100 train steps in 6.85 secs\n",
      "Step    600: train CategoryCrossEntropy |  0.04994514\n",
      "Step    600: eval      CategoryAccuracy |  0.88593750\n",
      "Step    600: eval        WeightedFScore |  0.88454455\n",
      "Step    600: eval   MacroAveragedFScore |  0.80202606\n",
      "Step    600: eval  CategoryCrossEntropy |  0.44137648\n",
      "\n",
      "Step    700: Ran 100 train steps in 6.73 secs\n",
      "Step    700: train CategoryCrossEntropy |  0.03078415\n",
      "Step    700: eval      CategoryAccuracy |  0.89531250\n",
      "Step    700: eval        WeightedFScore |  0.89502293\n",
      "Step    700: eval   MacroAveragedFScore |  0.85659810\n",
      "Step    700: eval  CategoryCrossEntropy |  0.49319481\n",
      "\n",
      "Step    800: Ran 100 train steps in 6.77 secs\n",
      "Step    800: train CategoryCrossEntropy |  0.02266461\n",
      "Step    800: eval      CategoryAccuracy |  0.85468750\n",
      "Step    800: eval        WeightedFScore |  0.85104056\n",
      "Step    800: eval   MacroAveragedFScore |  0.76813715\n",
      "Step    800: eval  CategoryCrossEntropy |  0.65996021\n",
      "\n",
      "Step    900: Ran 100 train steps in 6.77 secs\n",
      "Step    900: train CategoryCrossEntropy |  0.02113880\n",
      "Step    900: eval      CategoryAccuracy |  0.89062500\n",
      "Step    900: eval        WeightedFScore |  0.88915076\n",
      "Step    900: eval   MacroAveragedFScore |  0.83328618\n",
      "Step    900: eval  CategoryCrossEntropy |  0.42567243\n",
      "\n",
      "Step   1000: Ran 100 train steps in 6.79 secs\n",
      "Step   1000: train CategoryCrossEntropy |  0.01431102\n",
      "Step   1000: eval      CategoryAccuracy |  0.88281250\n",
      "Step   1000: eval        WeightedFScore |  0.88316962\n",
      "Step   1000: eval   MacroAveragedFScore |  0.83243560\n",
      "Step   1000: eval  CategoryCrossEntropy |  0.53481876\n",
      "\n",
      "Step      1: Total number of trainable weights: 2538244\n",
      "Step      1: Ran 1 train steps in 4.53 secs\n",
      "Step      1: train CategoryCrossEntropy |  0.00223146\n",
      "Step      1: eval      CategoryAccuracy |  0.86953125\n",
      "Step      1: eval        WeightedFScore |  0.87061490\n",
      "Step      1: eval   MacroAveragedFScore |  0.80383297\n",
      "Step      1: eval  CategoryCrossEntropy |  0.60567883\n",
      "\n",
      "Step    100: Ran 99 train steps in 10.14 secs\n",
      "Step    100: train CategoryCrossEntropy |  0.02441247\n",
      "Step    100: eval      CategoryAccuracy |  0.87578125\n",
      "Step    100: eval        WeightedFScore |  0.87093213\n",
      "Step    100: eval   MacroAveragedFScore |  0.77648128\n",
      "Step    100: eval  CategoryCrossEntropy |  0.98383477\n",
      "\n",
      "Step    200: Ran 100 train steps in 10.22 secs\n",
      "Step    200: train CategoryCrossEntropy |  0.13280921\n",
      "Step    200: eval      CategoryAccuracy |  0.86406250\n",
      "Step    200: eval        WeightedFScore |  0.86210422\n",
      "Step    200: eval   MacroAveragedFScore |  0.80086764\n",
      "Step    200: eval  CategoryCrossEntropy |  0.89140372\n",
      "\n",
      "Step    300: Ran 100 train steps in 10.30 secs\n",
      "Step    300: train CategoryCrossEntropy |  0.05230197\n",
      "Step    300: eval      CategoryAccuracy |  0.87109375\n",
      "Step    300: eval        WeightedFScore |  0.87169742\n",
      "Step    300: eval   MacroAveragedFScore |  0.79247359\n",
      "Step    300: eval  CategoryCrossEntropy |  0.75365013\n",
      "\n",
      "Step    400: Ran 100 train steps in 10.52 secs\n",
      "Step    400: train CategoryCrossEntropy |  0.01681487\n",
      "Step    400: eval      CategoryAccuracy |  0.88125000\n",
      "Step    400: eval        WeightedFScore |  0.88088945\n",
      "Step    400: eval   MacroAveragedFScore |  0.83375720\n",
      "Step    400: eval  CategoryCrossEntropy |  0.71307026\n",
      "\n",
      "Step    500: Ran 100 train steps in 10.30 secs\n",
      "Step    500: train CategoryCrossEntropy |  0.01003079\n",
      "Step    500: eval      CategoryAccuracy |  0.88906250\n",
      "Step    500: eval        WeightedFScore |  0.88716389\n",
      "Step    500: eval   MacroAveragedFScore |  0.84584612\n",
      "Step    500: eval  CategoryCrossEntropy |  0.68663405\n",
      "\n",
      "Step    600: Ran 100 train steps in 10.29 secs\n",
      "Step    600: train CategoryCrossEntropy |  0.00529496\n",
      "Step    600: eval      CategoryAccuracy |  0.89609375\n",
      "Step    600: eval        WeightedFScore |  0.89482565\n",
      "Step    600: eval   MacroAveragedFScore |  0.83650249\n",
      "Step    600: eval  CategoryCrossEntropy |  0.74590368\n",
      "\n",
      "Step    700: Ran 100 train steps in 10.24 secs\n",
      "Step    700: train CategoryCrossEntropy |  0.00128649\n",
      "Step    700: eval      CategoryAccuracy |  0.86250000\n",
      "Step    700: eval        WeightedFScore |  0.86274959\n",
      "Step    700: eval   MacroAveragedFScore |  0.80623667\n",
      "Step    700: eval  CategoryCrossEntropy |  1.07742083\n",
      "\n",
      "Step    800: Ran 100 train steps in 10.26 secs\n",
      "Step    800: train CategoryCrossEntropy |  0.00060411\n",
      "Step    800: eval      CategoryAccuracy |  0.88906250\n",
      "Step    800: eval        WeightedFScore |  0.88813328\n",
      "Step    800: eval   MacroAveragedFScore |  0.83402010\n",
      "Step    800: eval  CategoryCrossEntropy |  0.82003307\n",
      "\n",
      "Step    900: Ran 100 train steps in 10.33 secs\n",
      "Step    900: train CategoryCrossEntropy |  0.00024832\n",
      "Step    900: eval      CategoryAccuracy |  0.86953125\n",
      "Step    900: eval        WeightedFScore |  0.87100630\n",
      "Step    900: eval   MacroAveragedFScore |  0.80848559\n",
      "Step    900: eval  CategoryCrossEntropy |  1.05867148\n",
      "\n",
      "Step   1000: Ran 100 train steps in 10.22 secs\n",
      "Step   1000: train CategoryCrossEntropy |  0.00023734\n",
      "Step   1000: eval      CategoryAccuracy |  0.89062500\n",
      "Step   1000: eval        WeightedFScore |  0.89070296\n",
      "Step   1000: eval   MacroAveragedFScore |  0.83810992\n",
      "Step   1000: eval  CategoryCrossEntropy |  0.89447135\n",
      "\n",
      "Step      1: Total number of trainable weights: 2538244\n",
      "Step      1: Ran 1 train steps in 4.42 secs\n",
      "Step      1: train CategoryCrossEntropy |  0.00026960\n",
      "Step      1: eval      CategoryAccuracy |  0.88281250\n",
      "Step      1: eval        WeightedFScore |  0.88249486\n",
      "Step      1: eval   MacroAveragedFScore |  0.82941065\n",
      "Step      1: eval  CategoryCrossEntropy |  0.97276500\n",
      "\n",
      "Step    100: Ran 99 train steps in 17.74 secs\n",
      "Step    100: train CategoryCrossEntropy |  0.01788330\n",
      "Step    100: eval      CategoryAccuracy |  0.86210937\n",
      "Step    100: eval        WeightedFScore |  0.86165149\n",
      "Step    100: eval   MacroAveragedFScore |  0.79349778\n",
      "Step    100: eval  CategoryCrossEntropy |  1.71237569\n",
      "\n",
      "Step    200: Ran 100 train steps in 18.35 secs\n",
      "Step    200: train CategoryCrossEntropy |  0.05199674\n",
      "Step    200: eval      CategoryAccuracy |  0.87070313\n",
      "Step    200: eval        WeightedFScore |  0.86722551\n",
      "Step    200: eval   MacroAveragedFScore |  0.79346859\n",
      "Step    200: eval  CategoryCrossEntropy |  1.36182722\n",
      "\n",
      "Step    300: Ran 100 train steps in 18.03 secs\n",
      "Step    300: train CategoryCrossEntropy |  0.01830194\n",
      "Step    300: eval      CategoryAccuracy |  0.88398438\n",
      "Step    300: eval        WeightedFScore |  0.88350500\n",
      "Step    300: eval   MacroAveragedFScore |  0.82286922\n",
      "Step    300: eval  CategoryCrossEntropy |  1.17125310\n",
      "\n",
      "Step    400: Ran 100 train steps in 18.10 secs\n",
      "Step    400: train CategoryCrossEntropy |  0.00626612\n",
      "Step    400: eval      CategoryAccuracy |  0.86992187\n",
      "Step    400: eval        WeightedFScore |  0.86995103\n",
      "Step    400: eval   MacroAveragedFScore |  0.80752075\n",
      "Step    400: eval  CategoryCrossEntropy |  1.13048062\n",
      "\n",
      "Step    500: Ran 100 train steps in 17.94 secs\n",
      "Step    500: train CategoryCrossEntropy |  0.00043750\n",
      "Step    500: eval      CategoryAccuracy |  0.88632813\n",
      "Step    500: eval        WeightedFScore |  0.88539877\n",
      "Step    500: eval   MacroAveragedFScore |  0.83675979\n",
      "Step    500: eval  CategoryCrossEntropy |  1.03696927\n",
      "\n",
      "Step    600: Ran 100 train steps in 17.99 secs\n",
      "Step    600: train CategoryCrossEntropy |  0.00009110\n",
      "Step    600: eval      CategoryAccuracy |  0.86835938\n",
      "Step    600: eval        WeightedFScore |  0.86966783\n",
      "Step    600: eval   MacroAveragedFScore |  0.81120410\n",
      "Step    600: eval  CategoryCrossEntropy |  1.19046219\n",
      "\n",
      "Step    700: Ran 100 train steps in 18.07 secs\n",
      "Step    700: train CategoryCrossEntropy |  0.00006620\n",
      "Step    700: eval      CategoryAccuracy |  0.87539062\n",
      "Step    700: eval        WeightedFScore |  0.87556060\n",
      "Step    700: eval   MacroAveragedFScore |  0.80556328\n",
      "Step    700: eval  CategoryCrossEntropy |  1.25960804\n",
      "\n",
      "Step    800: Ran 100 train steps in 18.02 secs\n",
      "Step    800: train CategoryCrossEntropy |  0.00005852\n",
      "Step    800: eval      CategoryAccuracy |  0.87460938\n",
      "Step    800: eval        WeightedFScore |  0.87504838\n",
      "Step    800: eval   MacroAveragedFScore |  0.81890564\n",
      "Step    800: eval  CategoryCrossEntropy |  1.15022405\n",
      "\n",
      "Step    900: Ran 100 train steps in 17.97 secs\n",
      "Step    900: train CategoryCrossEntropy |  0.00004575\n",
      "Step    900: eval      CategoryAccuracy |  0.87773437\n",
      "Step    900: eval        WeightedFScore |  0.87871203\n",
      "Step    900: eval   MacroAveragedFScore |  0.81942840\n",
      "Step    900: eval  CategoryCrossEntropy |  1.11283157\n",
      "\n",
      "Step   1000: Ran 100 train steps in 17.90 secs\n",
      "Step   1000: train CategoryCrossEntropy |  0.00004528\n",
      "Step   1000: eval      CategoryAccuracy |  0.86835938\n",
      "Step   1000: eval        WeightedFScore |  0.86784489\n",
      "Step   1000: eval   MacroAveragedFScore |  0.79919501\n",
      "Step   1000: eval  CategoryCrossEntropy |  1.32433137\n"
     ]
    }
   ],
   "source": [
    "lst_batchsizes = [16, 32, 64, 128, 256]\n",
    "for i in lst_batchsizes:\n",
    "\n",
    "    trainstreamer = data_tools.BaseDatastreamer(\n",
    "        dataset=traindataset,\n",
    "        batchsize=i,\n",
    "        preprocessor=preprocessor\n",
    "    ).stream()\n",
    "\n",
    "    teststreamer = data_tools.BaseDatastreamer(\n",
    "        dataset=testdataset,\n",
    "        batchsize=i,\n",
    "        preprocessor=preprocessor\n",
    "    ).stream()\n",
    "\n",
    "    trainpipe = data_pipeline(trainstreamer)\n",
    "    testpipe = data_pipeline(teststreamer)\n",
    "\n",
    "    OUTPUT_PATH = Path(f\"../tune_trax/attention_model2_batchsize{i}\")\n",
    "\n",
    "    train_task = training.TrainTask(\n",
    "        labeled_data=trainpipe,\n",
    "        loss_layer=tl.CategoryCrossEntropy(),\n",
    "        optimizer=trax.optimizers.Adam(),\n",
    "        lr_schedule=lr\n",
    "    )\n",
    "\n",
    "    eval_task = training.EvalTask(\n",
    "        labeled_data=testpipe,\n",
    "        metrics=[tl.CategoryAccuracy(), tl.WeightedFScore(), tl.MacroAveragedFScore(), tl.CategoryCrossEntropy()],\n",
    "        n_eval_batches=10\n",
    "    )\n",
    "\n",
    "    loop = training.Loop(\n",
    "        attention_model2,\n",
    "        train_task,\n",
    "        eval_tasks=[eval_task],\n",
    "        output_dir=OUTPUT_PATH,\n",
    "    )\n",
    "\n",
    "    loop.run(1000)"
   ]
  },
  {
   "cell_type": "code",
   "execution_count": 270,
   "metadata": {},
   "outputs": [
    {
     "name": "stdout",
     "output_type": "stream",
     "text": [
      "2022-07-01 16:27:34.007512: W tensorflow/stream_executor/platform/default/dso_loader.cc:64] Could not load dynamic library 'libcudart.so.11.0'; dlerror: libcudart.so.11.0: cannot open shared object file: No such file or directory\n",
      "2022-07-01 16:27:36.311183: W tensorflow/stream_executor/platform/default/dso_loader.cc:64] Could not load dynamic library 'libcuda.so.1'; dlerror: libcuda.so.1: cannot open shared object file: No such file or directory\n",
      "2022-07-01 16:27:36.311218: W tensorflow/stream_executor/cuda/cuda_driver.cc:269] failed call to cuInit: UNKNOWN ERROR (303)\n",
      "\n",
      "NOTE: Using experimental fast data loading logic. To disable, pass\n",
      "    \"--load_fast=false\" and report issues on GitHub. More details:\n",
      "    https://github.com/tensorflow/tensorboard/issues/4784\n",
      "\n",
      "Serving TensorBoard on localhost; to expose to the network, use a proxy or pass --bind_all\n",
      "TensorBoard 2.9.1 at http://localhost:6006/ (Press CTRL+C to quit)\n",
      "^C\n"
     ]
    }
   ],
   "source": [
    "!tensorboard --logdir \"/home/mladmin/code/eind_opdracht/examen-22/tune_trax\""
   ]
  },
  {
   "cell_type": "markdown",
   "metadata": {},
   "source": [
    "## 6.5 Discussion\n",
    "\n",
    "Due to trax beign the most unfamilair to me I tried implementing 3 trax models. Due to the way the StyleSettings class was set up it was not possible to train multiple models. All config and setting files would be saved to the ../tune folder. This made it impossible to run the train loop on two seperate models. To remedy this I decided to opt for changing the log_dir to a variable that could more closly be controlled. the ../tune/model_1 and ../tune/model_2 folders proofs this is working as intendended.\n",
    "\n",
    "The first model was only for testing a basic architecture using Trax. It only has 3 layers: \n",
    "1. a Dense(128) layer\n",
    "2. a RELU activation layer\n",
    "3. a Dense(4) layer\n",
    "\n",
    "The second model only enlarged the first Dense layer from 128 to 256. This allowed me to test the checkpoint saving and loading used by Trax's loop.run(). Looking at the eval tensorboard files for both models We can at least see that a simple model using a smaller dense layer performs somewhat better than the larger model.\n",
    "\n",
    "The third was done using a RNN with a GRU cell. The goal for me was to try and lay the foundations for an attention network. Getting the RNN to run was the first step. And, looking at the Eval statistics we get a large improvement over the first two models. This should ofcourse come to no suprise as RNN's are better suited for NLP tasks, given their memory of the input. Looking at the logs more training would not produce any better results, as the curve seems to be evening out the model might have learned al it can. We could tinker with the layers, batch sizes or learning rates but, to challenge myself, I will try to implement an attention layer next. \n",
    "\n",
    "At first implementing the Attention model there where some problems. The model performed poorly and ran for around the same amount of time as the RNN benchmark model. Afterwards I tried implementing the pre-trained BERT model, this hower failed and send me back to the drawing board. At a good moment I found [this colab notebook](https://colab.research.google.com/github/jalammar/jalammar.github.io/blob/master/notebooks/Trax_TransformerLM_Intro.ipynb#scrollTo=CE38oeYU9fgv) that gave me some extra insights. With some newfound knoweledge and expirementing (based on the [transformation model documentation](https://github.com/google/trax/blob/master/trax/models/transformer.py)) I could create the Attention model 2.0. This model performed much better than the RNN-benchmark. With a shorter (almost halved) trainingtime  and a higher initial score the attention model began looking good.\n",
    "\n",
    "After implementing the attention 2.0 model I tried running the model on different batchsizes. My hypothesise was that a larger batch size would make the model perform better on the testset by generalizing more on the given data. This however did not seem to be the case. I had a search space of 5 batch sizes while also experimenting with 3 end layers in the model (Relu(), Softmax(), and no activation). I did most model tests with a Relu() layer. This had no special reason, After having created the working attention 2.0 model I switched the final layer be no activation seeing that: \n",
    "1. the Softmax activation should be generally used for the binarycrossentropy loss;\n",
    "2. the loss functions already implement the correct activation function.\n",
    "\n",
    "In the end Attention_model2 using batchsize 32 and a Relu() activation seemed to have performed the best followed by the 64 batchsize model with no activation layer. But the differences where negliable. I focused mostly on the weighted F1 score. This because there is no business case where on class is more important than the other. Thus using the weighted score gives the most fair model score, weighing the minority class more in the result.\n",
    "\n",
    "Some other notable experiments I ran but cleared out of the notebook cells because of time limitations on my side in further researching:\n",
    "1. I created a custome loss function that calculated the loss based on the F1 score (normaly not possible as no gradient can be directly calculated). This worked on single cases but I have not gotten the custom loss function in combination with the training loop.\n",
    "2. Tried rebuilding BERT and import/applying BERT. This failed several times. Taking the remaining time into account I wanted to focus my attention the custom attention 2.0 model)\n",
    "\n",
    "With this I end the experimentation. The Attention model got to me the most and I am happy that it worked and performed as well as it did. Given I had more time (besides me moving places during this assingment) I would further expirment on the data cleaning / data preperation (working with different paddings and maybe removing specific stopwords) part and afterwards the model architecture (for example adding one extra attention layer).\n",
    "\n",
    "\n",
    "\n"
   ]
  }
 ],
 "metadata": {
  "kernelspec": {
   "display_name": "Python 3.9.12 ('exam-22-Z0MsbPIA-py3.9')",
   "language": "python",
   "name": "python3"
  },
  "language_info": {
   "codemirror_mode": {
    "name": "ipython",
    "version": 3
   },
   "file_extension": ".py",
   "mimetype": "text/x-python",
   "name": "python",
   "nbconvert_exporter": "python",
   "pygments_lexer": "ipython3",
   "version": "3.9.12"
  },
  "orig_nbformat": 4,
  "vscode": {
   "interpreter": {
    "hash": "abd276725262becaa5c3e256f8c38384c11f1a26b31876c2a00eb7476ce26550"
   }
  }
 },
 "nbformat": 4,
 "nbformat_minor": 2
}
